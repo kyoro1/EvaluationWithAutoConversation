{
 "cells": [
  {
   "cell_type": "markdown",
   "metadata": {},
   "source": [
    "## Setting environments"
   ]
  },
  {
   "cell_type": "code",
   "execution_count": null,
   "metadata": {},
   "outputs": [],
   "source": [
    "#!pip install -r ./requirements.txt"
   ]
  },
  {
   "cell_type": "markdown",
   "metadata": {},
   "source": [
    "## Load functions"
   ]
  },
  {
   "cell_type": "code",
   "execution_count": null,
   "metadata": {},
   "outputs": [],
   "source": [
    "## common tools to handle AOAI API\n",
    "from src import common"
   ]
  },
  {
   "cell_type": "markdown",
   "metadata": {},
   "source": [
    "## Configuration"
   ]
  },
  {
   "cell_type": "code",
   "execution_count": null,
   "metadata": {},
   "outputs": [],
   "source": [
    "## Initialization of the tools\n",
    "tools = common.AOAI_TOOLS(config_file='config.yml')"
   ]
  },
  {
   "cell_type": "markdown",
   "metadata": {},
   "source": [
    "## Load prompts - for Caller, Operator and Evaluator"
   ]
  },
  {
   "cell_type": "code",
   "execution_count": null,
   "metadata": {},
   "outputs": [],
   "source": [
    "## Load operational prompts\n",
    "tools.prepare_prompts()"
   ]
  },
  {
   "cell_type": "code",
   "execution_count": null,
   "metadata": {},
   "outputs": [],
   "source": [
    "## Define initial prompt for caller\n",
    "prompt_caller = tools.promptBank['caller_prompt']['PROMPTS']['AS_CALLER_01_en']\n",
    "#prompt_caller = tools.promptBank['caller_prompt']['PROMPTS']['AS_CALLER_01_ja']\n",
    "#prompt_caller = tools.promptBank['caller_prompt']['PROMPTS']['AS_CALLER_02_ja']\n",
    "\n",
    "## Define initial prompt for operator\n",
    "prompt_operator = tools.promptBank['operator_prompt']['PROMPTS']['AS_OPERATOR_01_en']\n",
    "#prompt_operator = tools.promptBank['operator_prompt']['PROMPTS']['AS_OPERATOR_01_ja']\n",
    "#prompt_operator = tools.promptBank['operator_prompt']['PROMPTS']['AS_OPERATOR_02_ja']"
   ]
  },
  {
   "cell_type": "markdown",
   "metadata": {},
   "source": [
    "## Set AOAI client (technical readiness)"
   ]
  },
  {
   "cell_type": "code",
   "execution_count": null,
   "metadata": {},
   "outputs": [],
   "source": [
    "## set client for AOAI\n",
    "tools.setClient()"
   ]
  },
  {
   "cell_type": "markdown",
   "metadata": {},
   "source": [
    "## Generate conversation with GPT"
   ]
  },
  {
   "cell_type": "code",
   "execution_count": null,
   "metadata": {},
   "outputs": [],
   "source": [
    "Conversation = tools.generate_conversation(conversation_number = 3,\n",
    "\t\t\t\t\t\t\tprompt_caller=prompt_caller,\n",
    "\t\t\t\t\t\t\tprompt_operator=prompt_operator)"
   ]
  },
  {
   "cell_type": "markdown",
   "metadata": {},
   "source": [
    "## Evaluation"
   ]
  },
  {
   "cell_type": "code",
   "execution_count": null,
   "metadata": {},
   "outputs": [],
   "source": [
    "## Evaluate with EVALUTION01_en prompt\n",
    "evaluate_result = tools.evaluate_conversation(prompt_evaluator = tools.promptBank['evaluate_prompt']['PROMPTS']['EVALUATION01_en'],\n",
    "                                            conversation=Conversation)\n",
    "\n",
    "## Evaluate with EVALUTION01_ja prompt\n",
    "#evaluate_result = tools.evaluate_conversation(prompt_evaluator = tools.promptBank['evaluate_prompt']['PROMPTS']['EVALUATION01_ja'],\n",
    "#                                            conversation=Conversation)"
   ]
  },
  {
   "cell_type": "code",
   "execution_count": null,
   "metadata": {},
   "outputs": [],
   "source": [
    "print(evaluate_result)"
   ]
  }
 ],
 "metadata": {
  "kernelspec": {
   "display_name": "Python 3",
   "language": "python",
   "name": "python3"
  },
  "language_info": {
   "codemirror_mode": {
    "name": "ipython",
    "version": 3
   },
   "file_extension": ".py",
   "mimetype": "text/x-python",
   "name": "python",
   "nbconvert_exporter": "python",
   "pygments_lexer": "ipython3",
   "version": "3.9.6"
  }
 },
 "nbformat": 4,
 "nbformat_minor": 2
}
