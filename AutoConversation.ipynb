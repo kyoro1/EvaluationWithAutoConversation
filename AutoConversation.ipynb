{
 "cells": [
  {
   "cell_type": "code",
   "execution_count": 12,
   "metadata": {},
   "outputs": [],
   "source": [
    "#!pip install -r ../requirements.txt"
   ]
  },
  {
   "cell_type": "code",
   "execution_count": 1,
   "metadata": {},
   "outputs": [],
   "source": [
    "## common tools to handle AOAI API\n",
    "from src import common"
   ]
  },
  {
   "cell_type": "code",
   "execution_count": 2,
   "metadata": {},
   "outputs": [],
   "source": [
    "## Initialization of the tools\n",
    "tools = common.AOAI_TOOLS(config_file='config.yml')"
   ]
  },
  {
   "cell_type": "code",
   "execution_count": 3,
   "metadata": {},
   "outputs": [],
   "source": [
    "## set client for AOAI\n",
    "tools.setClient()"
   ]
  },
  {
   "cell_type": "code",
   "execution_count": 4,
   "metadata": {},
   "outputs": [],
   "source": [
    "## Load operational prompts\n",
    "tools.load_prompts(prompt_name='operation_prompt',\n",
    "\t\t\t\t\tprompt_path='./prompts/operation_prompts.yml')\n",
    "\n",
    "## Define initial prompt for caller\n",
    "prompt_caller = tools.promptBank['operation_prompt']['PROMPTS']['CONVERSATION_AS_CALLER']"
   ]
  },
  {
   "cell_type": "code",
   "execution_count": 6,
   "metadata": {},
   "outputs": [
    {
     "name": "stdout",
     "output_type": "stream",
     "text": [
      "Customer: もしもし、白戸花子です。あのね、海外請求額を知りたいんだけど、どうすればいいの？早く教えて。\n",
      "Operator: 白戸花子様、お問い合わせありがとうございます。海外請求額について確認いたしますので、少々お待ちください。\n",
      "Customer: ちょっと待って、そんなに待たせる気？早くしてよ、時間ないんだから。\n",
      "Operator: 申し訳ございません。すぐに確認いたしますので、少々お待ちください。\n",
      "Customer: だから、少々ってどれくらいよ？もう、いい加減にしてよ。早くしなさいよ。\n",
      "Operator: ご案内を続ける前に、ご本人様確認をさせていただく必要がございます。本日確認するお電話番号をお教えいただけますか？\n",
      "Customer: はぁ？そんなの最初に言えっての。080-1234-5678よ。これでいい？\n",
      "Operator: 申し訳ございませんが、電話番号の確認ができませんでした。もう一度お電話番号を教えていただけますか？\n",
      "Customer: はぁ？また確認できないの？さっきも言ったけど、080-1234-5678よ。本当にちゃんと確認してんの？\n",
      "Operator: 再度確認を試みましたが、やはり電話番号の確認ができませんでした。もう一度お電話番号を教えていただけますか？\n"
     ]
    }
   ],
   "source": [
    "## Configure client for AOAI\n",
    "tools.setClient()\n",
    "tools.initConversation()\n",
    "Conversation, prompts_caller = tools.AutoConversationWithCCApp(conversation_number=5,\n",
    "\t\t\t\t\t\t\t\t\t\t\t\t\t\t\t\tprompt_caller=prompt_caller,\n",
    "\t\t\t\t\t\t\t\t\t\t\t\t\t\t\t\tuserId=tools.USER_ID,\n",
    "\t\t\t\t\t\t\t\t\t\t\t\t\t\t\t\tconversationId=tools.CONVERSATION_ID)"
   ]
  }
 ],
 "metadata": {
  "kernelspec": {
   "display_name": "Python 3",
   "language": "python",
   "name": "python3"
  },
  "language_info": {
   "codemirror_mode": {
    "name": "ipython",
    "version": 3
   },
   "file_extension": ".py",
   "mimetype": "text/x-python",
   "name": "python",
   "nbconvert_exporter": "python",
   "pygments_lexer": "ipython3",
   "version": "3.9.6"
  }
 },
 "nbformat": 4,
 "nbformat_minor": 2
}
